{
 "cells": [
  {
   "cell_type": "markdown",
   "metadata": {},
   "source": [
    "<font face=\"Georgia\" size=\"3\" color=\"#007acc\">\n",
    "   <div align=\"center\">\n",
    "    <h1><strong>Tecnológico de Monterrey</strong></h1>\n",
    "        <h1><strong>Campus Querétaro</strong></h1>\n",
    "        <h1>Analítica de datos y herramientas de inteligencia artificial I</h1>\n",
    "        <h3>Grupo 101</h3>\n",
    "    <h4><strong>Actividad 3 (Valores Atípicos por Dataframe)</strong></h4>\n",
    "           <h4>Ana Michele Hay Robles</h4>\n",
    "           <h4>A01378047</h4>\n",
    "    </div>\n",
    "\n",
    "</font>\n",
    "</div>"
   ]
  },
  {
   "cell_type": "markdown",
   "metadata": {},
   "source": [
    "# INSTRUCCIONES\n",
    "\n",
    "- Utilizar el repositorio con el nombre: Valores Atípicos\n",
    "- Agregar el archivo: Gastos y costos 20-23.xlsx\n",
    "- Aplicar métodos para reemplazar valores nulos en el dataframe “2023”\n",
    "- Aplicar métodos (Desviación Estándar y Rango Intercuartílico) para eliminar Outliers, comprobar con diagramas de caja de cada dataframe\n",
    "- Crear el archivo en Google COLAB, respaldarlo en GitHub, y agregar un archivo .csv por cada dataframe procesada.\n",
    "- Subir el link del repositorio en CANVAS para “Evaluación”"
   ]
  },
  {
   "cell_type": "code",
   "execution_count": 100,
   "metadata": {},
   "outputs": [],
   "source": [
    "\n",
    "# Importamos las librerias pandas, numpy y matplotlib respectivamente\n",
    "import pandas as pd\n",
    "import numpy as np\n",
    "import matplotlib.pyplot as plt"
   ]
  },
  {
   "cell_type": "code",
   "execution_count": 101,
   "metadata": {},
   "outputs": [],
   "source": [
    "# Creamos una función que lea el archivo xslx y que reciba como parámetro el path, numero de hoja y el num_skip_rows\n",
    "\n",
    "def read_xlsx(path, sheet, num_skip_rows):\n",
    "    df = pd.read_excel(path, sheet_name=sheet, skiprows=num_skip_rows)\n",
    "    return df\n",
    "\n",
    "\n",
    "path = \"/Users/michelehay/Documents/7MO UNI/actividad_2_valores_nulo/valores_atipicos/Gastos y costos 20-23.xlsx\"\n",
    "df_2020 = read_xlsx(path, '2020', 5)\n",
    "df_2021 = read_xlsx(path, '2021', 3)\n",
    "df_2022 = read_xlsx(path, '2022', 3)\n",
    "df_2023 = read_xlsx(path, '2023', 3)\n",
    "lista_df = [df_2020, df_2021, df_2022, df_2023]"
   ]
  },
  {
   "cell_type": "code",
   "execution_count": 102,
   "metadata": {},
   "outputs": [
    {
     "name": "stdout",
     "output_type": "stream",
     "text": [
      "Index(['FECHA', 'FOLIO', 'UUID', 'RFC', 'PROVEEDOR', 'TIPO GASTO', 'GASTO',\n",
      "       'DESCRIPCION', 'TC', 'IMPORTE', 'IVA', 'RET ISR', 'RET IVA', 'TOTAL MX',\n",
      "       'TOTAL SAT', 'TIPO', 'STATUS', 'POLIZA', 'Columna1'],\n",
      "      dtype='object')\n",
      "Index(['FECHA', 'FOLIO', 'UUID', 'RFC', 'PROVEEDOR', 'TIPO GASTO',\n",
      "       'DESCRIPCION', 'MP', 'TC', 'IMPORTE', 'IVA', 'RET ISR', 'RET IVA',\n",
      "       'TOTAL MX', 'TOTAL SAT', 'TIPO', 'STATUS', 'POLIZA'],\n",
      "      dtype='object')\n",
      "Index(['Fecha', 'Folio', 'UUID', 'RFC', 'Proveedor', 'TIPO GASTO',\n",
      "       'Descripción', 'MP', 'TC', 'Importe', 'IVA', 'RET ISR', 'RET IVA',\n",
      "       'Otros', 'TOTAL MX', 'TOTAL SAT', 'Tipo', 'Status', 'Poliza'],\n",
      "      dtype='object')\n",
      "Index(['Fecha', 'Folio', 'UUID', 'RFC', 'Proveedor', 'TIPO GASTO',\n",
      "       'Descripción', 'MP', 'FP', 'TC', 'Importe', 'IVA', 'RET ISR', 'RET IVA',\n",
      "       'Otros', 'TOTAL MX', 'TOTAL SAT', 'Tipo', 'Status', 'Poliza'],\n",
      "      dtype='object')\n"
     ]
    }
   ],
   "source": [
    "for i in lista_df:\n",
    "    print(i.columns)"
   ]
  },
  {
   "cell_type": "code",
   "execution_count": 103,
   "metadata": {},
   "outputs": [
    {
     "name": "stdout",
     "output_type": "stream",
     "text": [
      "<class 'pandas.core.frame.DataFrame'>\n",
      "RangeIndex: 397 entries, 0 to 396\n",
      "Data columns (total 20 columns):\n",
      " #   Column       Non-Null Count  Dtype         \n",
      "---  ------       --------------  -----         \n",
      " 0   Fecha        397 non-null    datetime64[ns]\n",
      " 1   Folio        384 non-null    object        \n",
      " 2   UUID         397 non-null    object        \n",
      " 3   RFC          397 non-null    object        \n",
      " 4   Proveedor    397 non-null    object        \n",
      " 5   TIPO GASTO   389 non-null    object        \n",
      " 6   Descripción  397 non-null    object        \n",
      " 7   MP           326 non-null    object        \n",
      " 8   FP           326 non-null    float64       \n",
      " 9   TC           397 non-null    float64       \n",
      " 10  Importe      397 non-null    float64       \n",
      " 11  IVA          397 non-null    float64       \n",
      " 12  RET ISR      397 non-null    float64       \n",
      " 13  RET IVA      397 non-null    float64       \n",
      " 14  Otros        0 non-null      float64       \n",
      " 15  TOTAL MX     397 non-null    float64       \n",
      " 16  TOTAL SAT    397 non-null    float64       \n",
      " 17  Tipo         397 non-null    object        \n",
      " 18  Status       397 non-null    object        \n",
      " 19  Poliza       282 non-null    object        \n",
      "dtypes: datetime64[ns](1), float64(9), object(10)\n",
      "memory usage: 62.2+ KB\n"
     ]
    }
   ],
   "source": [
    "# 3. Aplicar métodos para reemplazar valores nulos en el dataframe “2023”\n",
    "\n",
    "df_2023.info()"
   ]
  },
  {
   "cell_type": "markdown",
   "metadata": {},
   "source": [
    "## 3. Aplicar métodos para reemplazar valores nulos en el dataframe “2023”"
   ]
  },
  {
   "cell_type": "code",
   "execution_count": 104,
   "metadata": {},
   "outputs": [
    {
     "name": "stdout",
     "output_type": "stream",
     "text": [
      "Columna: Fecha           Tipo de dato: datetime64[ns]  Cantidad de valores nulos: 0              \n",
      "Columna: Folio           Tipo de dato: object          Cantidad de valores nulos: 13             \n",
      "Columna: UUID            Tipo de dato: object          Cantidad de valores nulos: 0              \n",
      "Columna: RFC             Tipo de dato: object          Cantidad de valores nulos: 0              \n",
      "Columna: Proveedor       Tipo de dato: object          Cantidad de valores nulos: 0              \n",
      "Columna: TIPO GASTO      Tipo de dato: object          Cantidad de valores nulos: 8              \n",
      "Columna: Descripción     Tipo de dato: object          Cantidad de valores nulos: 0              \n",
      "Columna: MP              Tipo de dato: object          Cantidad de valores nulos: 71             \n",
      "Columna: FP              Tipo de dato: float64         Cantidad de valores nulos: 71             \n",
      "Columna: TC              Tipo de dato: float64         Cantidad de valores nulos: 0              \n",
      "Columna: Importe         Tipo de dato: float64         Cantidad de valores nulos: 0              \n",
      "Columna: IVA             Tipo de dato: float64         Cantidad de valores nulos: 0              \n",
      "Columna: RET ISR         Tipo de dato: float64         Cantidad de valores nulos: 0              \n",
      "Columna: RET IVA         Tipo de dato: float64         Cantidad de valores nulos: 0              \n",
      "Columna: Otros           Tipo de dato: float64         Cantidad de valores nulos: 397            \n",
      "Columna: TOTAL MX        Tipo de dato: float64         Cantidad de valores nulos: 0              \n",
      "Columna: TOTAL SAT       Tipo de dato: float64         Cantidad de valores nulos: 0              \n",
      "Columna: Tipo            Tipo de dato: object          Cantidad de valores nulos: 0              \n",
      "Columna: Status          Tipo de dato: object          Cantidad de valores nulos: 0              \n",
      "Columna: Poliza          Tipo de dato: object          Cantidad de valores nulos: 115            \n"
     ]
    }
   ],
   "source": [
    "# En la primera columna se imprime el nombre, en la segunda columna se\n",
    "# imprime el df.dtypes para ver el tipo de dato que tiene la columna y\n",
    "# en otra columna se imprime el df.isnull().sum() para ver la cantidad de\n",
    "# valores nulos que tiene la columna\n",
    "\n",
    "def info_df(df_2023):\n",
    "    for i in df_2023.columns:\n",
    "        # Definir el ancho de cada columna\n",
    "        column_width = 15\n",
    "\n",
    "        # Imprimir la información con alineación ajustada\n",
    "        print(\n",
    "            f\"Columna: {i.ljust(column_width)} Tipo de dato: {str(df_2023[i].dtypes).ljust(column_width)} Cantidad de valores nulos: {str(df_2023[i].isnull().sum()).ljust(column_width)}\")\n",
    "        \n",
    "info_df(df_2023)"
   ]
  },
  {
   "cell_type": "code",
   "execution_count": 105,
   "metadata": {},
   "outputs": [
    {
     "name": "stdout",
     "output_type": "stream",
     "text": [
      "Columna: Fecha           Tipo de dato: datetime64[ns]  Cantidad de valores nulos: 0              \n",
      "Columna: Folio           Tipo de dato: object          Cantidad de valores nulos: 0              \n",
      "Columna: UUID            Tipo de dato: object          Cantidad de valores nulos: 0              \n",
      "Columna: RFC             Tipo de dato: object          Cantidad de valores nulos: 0              \n",
      "Columna: Proveedor       Tipo de dato: object          Cantidad de valores nulos: 0              \n",
      "Columna: TIPO GASTO      Tipo de dato: object          Cantidad de valores nulos: 0              \n",
      "Columna: Descripción     Tipo de dato: object          Cantidad de valores nulos: 0              \n",
      "Columna: MP              Tipo de dato: object          Cantidad de valores nulos: 0              \n",
      "Columna: FP              Tipo de dato: float64         Cantidad de valores nulos: 0              \n",
      "Columna: TC              Tipo de dato: float64         Cantidad de valores nulos: 0              \n",
      "Columna: Importe         Tipo de dato: float64         Cantidad de valores nulos: 0              \n",
      "Columna: IVA             Tipo de dato: float64         Cantidad de valores nulos: 0              \n",
      "Columna: RET ISR         Tipo de dato: float64         Cantidad de valores nulos: 0              \n",
      "Columna: RET IVA         Tipo de dato: float64         Cantidad de valores nulos: 0              \n",
      "Columna: Otros           Tipo de dato: float64         Cantidad de valores nulos: 0              \n",
      "Columna: TOTAL MX        Tipo de dato: float64         Cantidad de valores nulos: 0              \n",
      "Columna: TOTAL SAT       Tipo de dato: float64         Cantidad de valores nulos: 0              \n",
      "Columna: Tipo            Tipo de dato: object          Cantidad de valores nulos: 0              \n",
      "Columna: Status          Tipo de dato: object          Cantidad de valores nulos: 0              \n",
      "Columna: Poliza          Tipo de dato: object          Cantidad de valores nulos: 0              \n"
     ]
    }
   ],
   "source": [
    "# Reemplazar los valores nulos por el promedio de las columnas numéricas\n",
    "\n",
    "# Reemplazamos los valores nulos por el promedio de las columnas numéricas\n",
    "df_2023['FP'] = df_2023['FP'].fillna(df_2023['FP'].mean())\n",
    "\n",
    "# Reemplazamos los valores nulos por la moda de un valor categórico\n",
    "df_2023['Folio'] = df_2023['Folio'].fillna(df_2023['Folio'].mode()[0])\n",
    "df_2023['TIPO GASTO'] = df_2023['TIPO GASTO'].fillna(df_2023['TIPO GASTO'].mode()[0])\n",
    "df_2023['MP'] = df_2023['MP'].fillna(df_2023['MP'].mode()[0])\n",
    "df_2023['Poliza'] = df_2023['Poliza'].fillna(df_2023['Poliza'].mode()[0])\n",
    "\n",
    "# Reemplazamos la columna de Otros por 0 dado que no hay ningún valor\n",
    "df_2023['Otros'] = df_2023['Otros'].fillna(0)\n",
    "\n",
    "\n",
    "info_df(df_2023)"
   ]
  },
  {
   "cell_type": "markdown",
   "metadata": {},
   "source": [
    "## 4. Aplicar métodos (Desviación Estándar y Rango Intercuartílico) para eliminar Outliers, comprobar con diagramas de caja de cada dataframe"
   ]
  },
  {
   "cell_type": "markdown",
   "metadata": {},
   "source": [
    "### Desviación Estándar para df_2020"
   ]
  },
  {
   "cell_type": "code",
   "execution_count": 106,
   "metadata": {},
   "outputs": [
    {
     "name": "stdout",
     "output_type": "stream",
     "text": [
      "Columna: FECHA           Tipo de dato: datetime64[ns]  Cantidad de valores nulos: 0              \n",
      "Columna: FOLIO           Tipo de dato: object          Cantidad de valores nulos: 189            \n",
      "Columna: UUID            Tipo de dato: object          Cantidad de valores nulos: 0              \n",
      "Columna: RFC             Tipo de dato: object          Cantidad de valores nulos: 0              \n",
      "Columna: PROVEEDOR       Tipo de dato: object          Cantidad de valores nulos: 0              \n",
      "Columna: TIPO GASTO      Tipo de dato: object          Cantidad de valores nulos: 0              \n",
      "Columna: GASTO           Tipo de dato: object          Cantidad de valores nulos: 2502           \n",
      "Columna: DESCRIPCION     Tipo de dato: object          Cantidad de valores nulos: 0              \n",
      "Columna: TC              Tipo de dato: float64         Cantidad de valores nulos: 391            \n",
      "Columna: IMPORTE         Tipo de dato: float64         Cantidad de valores nulos: 34             \n",
      "Columna: IVA             Tipo de dato: float64         Cantidad de valores nulos: 268            \n",
      "Columna: RET ISR         Tipo de dato: float64         Cantidad de valores nulos: 0              \n",
      "Columna: RET IVA         Tipo de dato: float64         Cantidad de valores nulos: 0              \n",
      "Columna: TOTAL MX        Tipo de dato: float64         Cantidad de valores nulos: 0              \n",
      "Columna: TOTAL SAT       Tipo de dato: float64         Cantidad de valores nulos: 0              \n",
      "Columna: TIPO            Tipo de dato: object          Cantidad de valores nulos: 1              \n",
      "Columna: STATUS          Tipo de dato: object          Cantidad de valores nulos: 0              \n",
      "Columna: POLIZA          Tipo de dato: object          Cantidad de valores nulos: 3321           \n",
      "Columna: Columna1        Tipo de dato: float64         Cantidad de valores nulos: 0              \n"
     ]
    }
   ],
   "source": [
    "info_df(df_2020)"
   ]
  },
  {
   "cell_type": "code",
   "execution_count": 107,
   "metadata": {},
   "outputs": [],
   "source": [
    "def stdev_delete_outliers(df, columns):\n",
    "    '''\n",
    "    Elimina los valores atípicos de un dataframe\n",
    "    :param df: dataframe\n",
    "    :param columns: lista de columnas\n",
    "    :return: dataframe sin valores atípicos\n",
    "    '''\n",
    "    num_columns = len(columns)\n",
    "    \n",
    "    # Configura la disposición de subtramas en una fila con dos columnas\n",
    "    fig, axes = plt.subplots(1, 2 * num_columns, figsize=(15, 5))\n",
    "    \n",
    "    for index, i in enumerate(columns):\n",
    "        # Imprime el boxplot inicial en la primera columna\n",
    "        axes[index].boxplot(df[i])\n",
    "        axes[index].set_title(f'Initial {i}')\n",
    "        \n",
    "        # Filtra los outliers\n",
    "        df = df[np.abs(df[i] - df[i].mean()) <= (3 * df[i].std())]\n",
    "        \n",
    "        # Imprime el boxplot final en la segunda columna\n",
    "        axes[num_columns + index].boxplot(df[i])\n",
    "        axes[num_columns + index].set_title(f'Final {i}')\n",
    "    \n",
    "    # Ajusta el diseño de las subtramas\n",
    "    plt.tight_layout()\n",
    "    plt.show()\n",
    "    \n",
    "    return df"
   ]
  },
  {
   "cell_type": "code",
   "execution_count": 108,
   "metadata": {},
   "outputs": [
    {
     "data": {
      "image/png": "[encoded data removed]",
      "text/plain": [
       "<Figure size 1500x500 with 6 Axes>"
      ]
     },
     "metadata": {},
     "output_type": "display_data"
    },
    {
     "name": "stdout",
     "output_type": "stream",
     "text": [
      "Columna: FECHA           Tipo de dato: datetime64[ns]  Cantidad de valores nulos: 0              \n",
      "Columna: FOLIO           Tipo de dato: object          Cantidad de valores nulos: 130            \n",
      "Columna: UUID            Tipo de dato: object          Cantidad de valores nulos: 0              \n",
      "Columna: RFC             Tipo de dato: object          Cantidad de valores nulos: 0              \n",
      "Columna: PROVEEDOR       Tipo de dato: object          Cantidad de valores nulos: 0              \n",
      "Columna: TIPO GASTO      Tipo de dato: object          Cantidad de valores nulos: 0              \n",
      "Columna: GASTO           Tipo de dato: object          Cantidad de valores nulos: 1823           \n",
      "Columna: DESCRIPCION     Tipo de dato: object          Cantidad de valores nulos: 0              \n",
      "Columna: TC              Tipo de dato: float64         Cantidad de valores nulos: 0              \n",
      "Columna: IMPORTE         Tipo de dato: float64         Cantidad de valores nulos: 0              \n",
      "Columna: IVA             Tipo de dato: float64         Cantidad de valores nulos: 0              \n",
      "Columna: RET ISR         Tipo de dato: float64         Cantidad de valores nulos: 0              \n",
      "Columna: RET IVA         Tipo de dato: float64         Cantidad de valores nulos: 0              \n",
      "Columna: TOTAL MX        Tipo de dato: float64         Cantidad de valores nulos: 0              \n",
      "Columna: TOTAL SAT       Tipo de dato: float64         Cantidad de valores nulos: 0              \n",
      "Columna: TIPO            Tipo de dato: object          Cantidad de valores nulos: 1              \n",
      "Columna: STATUS          Tipo de dato: object          Cantidad de valores nulos: 0              \n",
      "Columna: POLIZA          Tipo de dato: object          Cantidad de valores nulos: 2617           \n",
      "Columna: Columna1        Tipo de dato: float64         Cantidad de valores nulos: 0              \n"
     ]
    }
   ],
   "source": [
    "df_2020 = stdev_delete_outliers(df_2020, ['TC', 'IMPORTE', 'IVA'])\n",
    "info_df(df_2020)"
   ]
  },
  {
   "cell_type": "markdown",
   "metadata": {},
   "source": [
    "### Rango Intercuantílico para df_2022"
   ]
  },
  {
   "cell_type": "code",
   "execution_count": 109,
   "metadata": {},
   "outputs": [],
   "source": [
    "def quantiles_delete_outliers(df, columns):\n",
    "    num_columns = len(columns)\n",
    "\n",
    "    # Configura la disposición de subtramas en una fila con dos columnas\n",
    "    fig, axes = plt.subplots(1, 2 * num_columns, figsize=(15, 5))\n",
    "\n",
    "    for index, i in enumerate(columns):\n",
    "        # Imprime el boxplot inicial en la primera columna\n",
    "        axes[index].boxplot(df[i])\n",
    "        axes[index].set_title(f'Initial {i} Boxplot')\n",
    "\n",
    "        # Filtra los outliers\n",
    "        q1 = df[i].quantile(0.25)\n",
    "        q3 = df[i].quantile(0.75)\n",
    "        iqr = q3 - q1\n",
    "        lower_bound = q1 - 1.5 * iqr\n",
    "        upper_bound = q3 + 1.5 * iqr\n",
    "        df = df[(df[i] >= lower_bound) & (df[i] <= upper_bound)]\n",
    "\n",
    "        # Imprime el boxplot final en la segunda columna\n",
    "        axes[num_columns + index].boxplot(df[i])\n",
    "        axes[num_columns + index].set_title(f'Final {i} Boxplot')\n",
    "\n",
    "    # Ajusta el diseño de las subtramas\n",
    "    plt.tight_layout()\n",
    "    plt.show()\n",
    "\n",
    "    return df\n"
   ]
  },
  {
   "cell_type": "code",
   "execution_count": 113,
   "metadata": {},
   "outputs": [
    {
     "data": {
      "image/png": "[encoded data removed]",
      "text/plain": [
       "<Figure size 1500x500 with 2 Axes>"
      ]
     },
     "metadata": {},
     "output_type": "display_data"
    },
    {
     "name": "stdout",
     "output_type": "stream",
     "text": [
      "Columna: Fecha           Tipo de dato: datetime64[ns]  Cantidad de valores nulos: 0              \n",
      "Columna: Folio           Tipo de dato: object          Cantidad de valores nulos: 77             \n",
      "Columna: UUID            Tipo de dato: object          Cantidad de valores nulos: 0              \n",
      "Columna: RFC             Tipo de dato: object          Cantidad de valores nulos: 0              \n",
      "Columna: Proveedor       Tipo de dato: object          Cantidad de valores nulos: 0              \n",
      "Columna: TIPO GASTO      Tipo de dato: object          Cantidad de valores nulos: 0              \n",
      "Columna: Descripción     Tipo de dato: object          Cantidad de valores nulos: 0              \n",
      "Columna: MP              Tipo de dato: object          Cantidad de valores nulos: 360            \n",
      "Columna: TC              Tipo de dato: float64         Cantidad de valores nulos: 0              \n",
      "Columna: Importe         Tipo de dato: float64         Cantidad de valores nulos: 0              \n",
      "Columna: IVA             Tipo de dato: float64         Cantidad de valores nulos: 0              \n",
      "Columna: RET ISR         Tipo de dato: float64         Cantidad de valores nulos: 0              \n",
      "Columna: RET IVA         Tipo de dato: float64         Cantidad de valores nulos: 0              \n",
      "Columna: Otros           Tipo de dato: float64         Cantidad de valores nulos: 1923           \n",
      "Columna: TOTAL MX        Tipo de dato: float64         Cantidad de valores nulos: 0              \n",
      "Columna: TOTAL SAT       Tipo de dato: float64         Cantidad de valores nulos: 0              \n",
      "Columna: Tipo            Tipo de dato: object          Cantidad de valores nulos: 0              \n",
      "Columna: Status          Tipo de dato: object          Cantidad de valores nulos: 0              \n",
      "Columna: Poliza          Tipo de dato: object          Cantidad de valores nulos: 572            \n"
     ]
    }
   ],
   "source": [
    "df_2022 = quantiles_delete_outliers(df_2022, ['TC'])\n",
    "info_df(df_2022)"
   ]
  },
  {
   "cell_type": "markdown",
   "metadata": {},
   "source": [
    "# Usamos métodos para reemplazar los valores categóricos restantes"
   ]
  },
  {
   "cell_type": "markdown",
   "metadata": {},
   "source": [
    "### 2023"
   ]
  },
  {
   "cell_type": "code",
   "execution_count": 114,
   "metadata": {},
   "outputs": [
    {
     "name": "stdout",
     "output_type": "stream",
     "text": [
      "Columna: Fecha           Tipo de dato: datetime64[ns]  Cantidad de valores nulos: 0              \n",
      "Columna: Folio           Tipo de dato: object          Cantidad de valores nulos: 0              \n",
      "Columna: UUID            Tipo de dato: object          Cantidad de valores nulos: 0              \n",
      "Columna: RFC             Tipo de dato: object          Cantidad de valores nulos: 0              \n",
      "Columna: Proveedor       Tipo de dato: object          Cantidad de valores nulos: 0              \n",
      "Columna: TIPO GASTO      Tipo de dato: object          Cantidad de valores nulos: 0              \n",
      "Columna: Descripción     Tipo de dato: object          Cantidad de valores nulos: 0              \n",
      "Columna: MP              Tipo de dato: object          Cantidad de valores nulos: 0              \n",
      "Columna: FP              Tipo de dato: float64         Cantidad de valores nulos: 0              \n",
      "Columna: TC              Tipo de dato: float64         Cantidad de valores nulos: 0              \n",
      "Columna: Importe         Tipo de dato: float64         Cantidad de valores nulos: 0              \n",
      "Columna: IVA             Tipo de dato: float64         Cantidad de valores nulos: 0              \n",
      "Columna: RET ISR         Tipo de dato: float64         Cantidad de valores nulos: 0              \n",
      "Columna: RET IVA         Tipo de dato: float64         Cantidad de valores nulos: 0              \n",
      "Columna: Otros           Tipo de dato: float64         Cantidad de valores nulos: 0              \n",
      "Columna: TOTAL MX        Tipo de dato: float64         Cantidad de valores nulos: 0              \n",
      "Columna: TOTAL SAT       Tipo de dato: float64         Cantidad de valores nulos: 0              \n",
      "Columna: Tipo            Tipo de dato: object          Cantidad de valores nulos: 0              \n",
      "Columna: Status          Tipo de dato: object          Cantidad de valores nulos: 0              \n",
      "Columna: Poliza          Tipo de dato: object          Cantidad de valores nulos: 0              \n"
     ]
    }
   ],
   "source": [
    "# A este df_2023 No le falta nada\n",
    "info_df(df_2023)"
   ]
  },
  {
   "cell_type": "markdown",
   "metadata": {},
   "source": [
    "### 2022"
   ]
  },
  {
   "cell_type": "code",
   "execution_count": 115,
   "metadata": {},
   "outputs": [
    {
     "name": "stdout",
     "output_type": "stream",
     "text": [
      "Columna: Fecha           Tipo de dato: datetime64[ns]  Cantidad de valores nulos: 0              \n",
      "Columna: Folio           Tipo de dato: object          Cantidad de valores nulos: 77             \n",
      "Columna: UUID            Tipo de dato: object          Cantidad de valores nulos: 0              \n",
      "Columna: RFC             Tipo de dato: object          Cantidad de valores nulos: 0              \n",
      "Columna: Proveedor       Tipo de dato: object          Cantidad de valores nulos: 0              \n",
      "Columna: TIPO GASTO      Tipo de dato: object          Cantidad de valores nulos: 0              \n",
      "Columna: Descripción     Tipo de dato: object          Cantidad de valores nulos: 0              \n",
      "Columna: MP              Tipo de dato: object          Cantidad de valores nulos: 360            \n",
      "Columna: TC              Tipo de dato: float64         Cantidad de valores nulos: 0              \n",
      "Columna: Importe         Tipo de dato: float64         Cantidad de valores nulos: 0              \n",
      "Columna: IVA             Tipo de dato: float64         Cantidad de valores nulos: 0              \n",
      "Columna: RET ISR         Tipo de dato: float64         Cantidad de valores nulos: 0              \n",
      "Columna: RET IVA         Tipo de dato: float64         Cantidad de valores nulos: 0              \n",
      "Columna: Otros           Tipo de dato: float64         Cantidad de valores nulos: 1923           \n",
      "Columna: TOTAL MX        Tipo de dato: float64         Cantidad de valores nulos: 0              \n",
      "Columna: TOTAL SAT       Tipo de dato: float64         Cantidad de valores nulos: 0              \n",
      "Columna: Tipo            Tipo de dato: object          Cantidad de valores nulos: 0              \n",
      "Columna: Status          Tipo de dato: object          Cantidad de valores nulos: 0              \n",
      "Columna: Poliza          Tipo de dato: object          Cantidad de valores nulos: 572            \n"
     ]
    }
   ],
   "source": [
    "info_df(df_2022)"
   ]
  },
  {
   "cell_type": "code",
   "execution_count": 116,
   "metadata": {},
   "outputs": [
    {
     "name": "stdout",
     "output_type": "stream",
     "text": [
      "Columna: Fecha           Tipo de dato: datetime64[ns]  Cantidad de valores nulos: 0              \n",
      "Columna: Folio           Tipo de dato: object          Cantidad de valores nulos: 0              \n",
      "Columna: UUID            Tipo de dato: object          Cantidad de valores nulos: 0              \n",
      "Columna: RFC             Tipo de dato: object          Cantidad de valores nulos: 0              \n",
      "Columna: Proveedor       Tipo de dato: object          Cantidad de valores nulos: 0              \n",
      "Columna: TIPO GASTO      Tipo de dato: object          Cantidad de valores nulos: 0              \n",
      "Columna: Descripción     Tipo de dato: object          Cantidad de valores nulos: 0              \n",
      "Columna: MP              Tipo de dato: object          Cantidad de valores nulos: 0              \n",
      "Columna: TC              Tipo de dato: float64         Cantidad de valores nulos: 0              \n",
      "Columna: Importe         Tipo de dato: float64         Cantidad de valores nulos: 0              \n",
      "Columna: IVA             Tipo de dato: float64         Cantidad de valores nulos: 0              \n",
      "Columna: RET ISR         Tipo de dato: float64         Cantidad de valores nulos: 0              \n",
      "Columna: RET IVA         Tipo de dato: float64         Cantidad de valores nulos: 0              \n",
      "Columna: Otros           Tipo de dato: float64         Cantidad de valores nulos: 1923           \n",
      "Columna: TOTAL MX        Tipo de dato: float64         Cantidad de valores nulos: 0              \n",
      "Columna: TOTAL SAT       Tipo de dato: float64         Cantidad de valores nulos: 0              \n",
      "Columna: Tipo            Tipo de dato: object          Cantidad de valores nulos: 0              \n",
      "Columna: Status          Tipo de dato: object          Cantidad de valores nulos: 0              \n",
      "Columna: Poliza          Tipo de dato: object          Cantidad de valores nulos: 2              \n"
     ]
    }
   ],
   "source": [
    "# Para el df_2022 aplicamos bfill para rellenar los valores nulos restantes\n",
    "df_2022 = df_2022.bfill(axis=0)\n",
    "\n",
    "# Verificamos que ya no hay valores nulos\n",
    "info_df(df_2022)"
   ]
  },
  {
   "cell_type": "markdown",
   "metadata": {},
   "source": [
    "### 2021"
   ]
  },
  {
   "cell_type": "code",
   "execution_count": 117,
   "metadata": {},
   "outputs": [
    {
     "name": "stdout",
     "output_type": "stream",
     "text": [
      "Columna: FECHA           Tipo de dato: datetime64[ns]  Cantidad de valores nulos: 0              \n",
      "Columna: FOLIO           Tipo de dato: object          Cantidad de valores nulos: 147            \n",
      "Columna: UUID            Tipo de dato: object          Cantidad de valores nulos: 0              \n",
      "Columna: RFC             Tipo de dato: object          Cantidad de valores nulos: 0              \n",
      "Columna: PROVEEDOR       Tipo de dato: object          Cantidad de valores nulos: 0              \n",
      "Columna: TIPO GASTO      Tipo de dato: object          Cantidad de valores nulos: 0              \n",
      "Columna: DESCRIPCION     Tipo de dato: object          Cantidad de valores nulos: 0              \n",
      "Columna: MP              Tipo de dato: object          Cantidad de valores nulos: 654            \n",
      "Columna: TC              Tipo de dato: float64         Cantidad de valores nulos: 0              \n",
      "Columna: IMPORTE         Tipo de dato: float64         Cantidad de valores nulos: 0              \n",
      "Columna: IVA             Tipo de dato: float64         Cantidad de valores nulos: 0              \n",
      "Columna: RET ISR         Tipo de dato: float64         Cantidad de valores nulos: 0              \n",
      "Columna: RET IVA         Tipo de dato: float64         Cantidad de valores nulos: 0              \n",
      "Columna: TOTAL MX        Tipo de dato: float64         Cantidad de valores nulos: 0              \n",
      "Columna: TOTAL SAT       Tipo de dato: float64         Cantidad de valores nulos: 0              \n",
      "Columna: TIPO            Tipo de dato: object          Cantidad de valores nulos: 0              \n",
      "Columna: STATUS          Tipo de dato: object          Cantidad de valores nulos: 0              \n",
      "Columna: POLIZA          Tipo de dato: object          Cantidad de valores nulos: 2372           \n"
     ]
    }
   ],
   "source": [
    "info_df(df_2021)"
   ]
  },
  {
   "cell_type": "code",
   "execution_count": 118,
   "metadata": {},
   "outputs": [
    {
     "name": "stdout",
     "output_type": "stream",
     "text": [
      "Columna: FECHA           Tipo de dato: datetime64[ns]  Cantidad de valores nulos: 0              \n",
      "Columna: FOLIO           Tipo de dato: object          Cantidad de valores nulos: 0              \n",
      "Columna: UUID            Tipo de dato: object          Cantidad de valores nulos: 0              \n",
      "Columna: RFC             Tipo de dato: object          Cantidad de valores nulos: 0              \n",
      "Columna: PROVEEDOR       Tipo de dato: object          Cantidad de valores nulos: 0              \n",
      "Columna: TIPO GASTO      Tipo de dato: object          Cantidad de valores nulos: 0              \n",
      "Columna: DESCRIPCION     Tipo de dato: object          Cantidad de valores nulos: 0              \n",
      "Columna: MP              Tipo de dato: object          Cantidad de valores nulos: 0              \n",
      "Columna: TC              Tipo de dato: float64         Cantidad de valores nulos: 0              \n",
      "Columna: IMPORTE         Tipo de dato: float64         Cantidad de valores nulos: 0              \n",
      "Columna: IVA             Tipo de dato: float64         Cantidad de valores nulos: 0              \n",
      "Columna: RET ISR         Tipo de dato: float64         Cantidad de valores nulos: 0              \n",
      "Columna: RET IVA         Tipo de dato: float64         Cantidad de valores nulos: 0              \n",
      "Columna: TOTAL MX        Tipo de dato: float64         Cantidad de valores nulos: 0              \n",
      "Columna: TOTAL SAT       Tipo de dato: float64         Cantidad de valores nulos: 0              \n",
      "Columna: TIPO            Tipo de dato: object          Cantidad de valores nulos: 0              \n",
      "Columna: STATUS          Tipo de dato: object          Cantidad de valores nulos: 0              \n",
      "Columna: POLIZA          Tipo de dato: object          Cantidad de valores nulos: 0              \n"
     ]
    }
   ],
   "source": [
    "# Aplicamos ffill para rellenar los valores nulos restantes\n",
    "\n",
    "df_2021 = df_2021.ffill(axis=0)\n",
    "\n",
    "# Verificamos que ya no hay valores nulos\n",
    "info_df(df_2021)"
   ]
  },
  {
   "cell_type": "markdown",
   "metadata": {},
   "source": [
    "### 2020"
   ]
  },
  {
   "cell_type": "code",
   "execution_count": 119,
   "metadata": {},
   "outputs": [
    {
     "name": "stdout",
     "output_type": "stream",
     "text": [
      "Columna: FECHA           Tipo de dato: datetime64[ns]  Cantidad de valores nulos: 0              \n",
      "Columna: FOLIO           Tipo de dato: object          Cantidad de valores nulos: 130            \n",
      "Columna: UUID            Tipo de dato: object          Cantidad de valores nulos: 0              \n",
      "Columna: RFC             Tipo de dato: object          Cantidad de valores nulos: 0              \n",
      "Columna: PROVEEDOR       Tipo de dato: object          Cantidad de valores nulos: 0              \n",
      "Columna: TIPO GASTO      Tipo de dato: object          Cantidad de valores nulos: 0              \n",
      "Columna: GASTO           Tipo de dato: object          Cantidad de valores nulos: 1823           \n",
      "Columna: DESCRIPCION     Tipo de dato: object          Cantidad de valores nulos: 0              \n",
      "Columna: TC              Tipo de dato: float64         Cantidad de valores nulos: 0              \n",
      "Columna: IMPORTE         Tipo de dato: float64         Cantidad de valores nulos: 0              \n",
      "Columna: IVA             Tipo de dato: float64         Cantidad de valores nulos: 0              \n",
      "Columna: RET ISR         Tipo de dato: float64         Cantidad de valores nulos: 0              \n",
      "Columna: RET IVA         Tipo de dato: float64         Cantidad de valores nulos: 0              \n",
      "Columna: TOTAL MX        Tipo de dato: float64         Cantidad de valores nulos: 0              \n",
      "Columna: TOTAL SAT       Tipo de dato: float64         Cantidad de valores nulos: 0              \n",
      "Columna: TIPO            Tipo de dato: object          Cantidad de valores nulos: 1              \n",
      "Columna: STATUS          Tipo de dato: object          Cantidad de valores nulos: 0              \n",
      "Columna: POLIZA          Tipo de dato: object          Cantidad de valores nulos: 2617           \n",
      "Columna: Columna1        Tipo de dato: float64         Cantidad de valores nulos: 0              \n"
     ]
    }
   ],
   "source": [
    "info_df(df_2020)"
   ]
  },
  {
   "cell_type": "code",
   "execution_count": 120,
   "metadata": {},
   "outputs": [
    {
     "name": "stdout",
     "output_type": "stream",
     "text": [
      "Columna: FECHA           Tipo de dato: datetime64[ns]  Cantidad de valores nulos: 0              \n",
      "Columna: FOLIO           Tipo de dato: object          Cantidad de valores nulos: 0              \n",
      "Columna: UUID            Tipo de dato: object          Cantidad de valores nulos: 0              \n",
      "Columna: RFC             Tipo de dato: object          Cantidad de valores nulos: 0              \n",
      "Columna: PROVEEDOR       Tipo de dato: object          Cantidad de valores nulos: 0              \n",
      "Columna: TIPO GASTO      Tipo de dato: object          Cantidad de valores nulos: 0              \n",
      "Columna: GASTO           Tipo de dato: object          Cantidad de valores nulos: 1814           \n",
      "Columna: DESCRIPCION     Tipo de dato: object          Cantidad de valores nulos: 0              \n",
      "Columna: TC              Tipo de dato: float64         Cantidad de valores nulos: 0              \n",
      "Columna: IMPORTE         Tipo de dato: float64         Cantidad de valores nulos: 0              \n",
      "Columna: IVA             Tipo de dato: float64         Cantidad de valores nulos: 0              \n",
      "Columna: RET ISR         Tipo de dato: float64         Cantidad de valores nulos: 0              \n",
      "Columna: RET IVA         Tipo de dato: float64         Cantidad de valores nulos: 0              \n",
      "Columna: TOTAL MX        Tipo de dato: float64         Cantidad de valores nulos: 0              \n",
      "Columna: TOTAL SAT       Tipo de dato: float64         Cantidad de valores nulos: 0              \n",
      "Columna: TIPO            Tipo de dato: object          Cantidad de valores nulos: 0              \n",
      "Columna: STATUS          Tipo de dato: object          Cantidad de valores nulos: 0              \n",
      "Columna: POLIZA          Tipo de dato: object          Cantidad de valores nulos: 4              \n",
      "Columna: Columna1        Tipo de dato: float64         Cantidad de valores nulos: 0              \n"
     ]
    }
   ],
   "source": [
    "# Aplicamos ffill para rellenar los valores nulos restantes\n",
    "\n",
    "df_2020 = df_2020.ffill(axis=0)\n",
    "\n",
    "# Verificamos que ya no hay valores nulos\n",
    "info_df(df_2020)"
   ]
  },
  {
   "cell_type": "code",
   "execution_count": 125,
   "metadata": {},
   "outputs": [
    {
     "name": "stdout",
     "output_type": "stream",
     "text": [
      "Columna: FECHA           Tipo de dato: datetime64[ns]  Cantidad de valores nulos: 0              \n",
      "Columna: FOLIO           Tipo de dato: object          Cantidad de valores nulos: 0              \n",
      "Columna: UUID            Tipo de dato: object          Cantidad de valores nulos: 0              \n",
      "Columna: RFC             Tipo de dato: object          Cantidad de valores nulos: 0              \n",
      "Columna: PROVEEDOR       Tipo de dato: object          Cantidad de valores nulos: 0              \n",
      "Columna: TIPO GASTO      Tipo de dato: object          Cantidad de valores nulos: 0              \n",
      "Columna: GASTO           Tipo de dato: object          Cantidad de valores nulos: 0              \n",
      "Columna: DESCRIPCION     Tipo de dato: object          Cantidad de valores nulos: 0              \n",
      "Columna: TC              Tipo de dato: float64         Cantidad de valores nulos: 0              \n",
      "Columna: IMPORTE         Tipo de dato: float64         Cantidad de valores nulos: 0              \n",
      "Columna: IVA             Tipo de dato: float64         Cantidad de valores nulos: 0              \n",
      "Columna: RET ISR         Tipo de dato: float64         Cantidad de valores nulos: 0              \n",
      "Columna: RET IVA         Tipo de dato: float64         Cantidad de valores nulos: 0              \n",
      "Columna: TOTAL MX        Tipo de dato: float64         Cantidad de valores nulos: 0              \n",
      "Columna: TOTAL SAT       Tipo de dato: float64         Cantidad de valores nulos: 0              \n",
      "Columna: TIPO            Tipo de dato: object          Cantidad de valores nulos: 0              \n",
      "Columna: STATUS          Tipo de dato: object          Cantidad de valores nulos: 0              \n",
      "Columna: POLIZA          Tipo de dato: object          Cantidad de valores nulos: 4              \n",
      "Columna: Columna1        Tipo de dato: float64         Cantidad de valores nulos: 0              \n"
     ]
    }
   ],
   "source": [
    "# Reemplazamos los valores nulos por la moda de un valor categórico\n",
    "df_2020['GASTO'] = df_2020['GASTO'].fillna(df_2020['GASTO'].mode()[0])\n",
    "\n",
    "# Verificamos que ya no hay valores nulos\n",
    "info_df(df_2020)"
   ]
  },
  {
   "cell_type": "markdown",
   "metadata": {},
   "source": [
    "# Guardamos los archivos"
   ]
  },
  {
   "cell_type": "code",
   "execution_count": 137,
   "metadata": {},
   "outputs": [],
   "source": [
    "def get_variable_name(variable):\n",
    "    for name in globals():\n",
    "        if id(globals()[name]) == id(variable):\n",
    "            return name\n",
    "    for name in locals():\n",
    "        if id(locals()[name]) == id(variable):\n",
    "            return name\n",
    "    return None\n",
    "\n",
    "lista_df = [df_2020, df_2021, df_2022, df_2023]\n",
    "\n",
    "for i in lista_df:\n",
    "    variable_name = get_variable_name(i)\n",
    "    i.to_excel(f'{variable_name}.xlsx', index=False)"
   ]
  }
 ],
 "metadata": {
  "kernelspec": {
   "display_name": "clase",
   "language": "python",
   "name": "python3"
  },
  "language_info": {
   "codemirror_mode": {
    "name": "ipython",
    "version": 3
   },
   "file_extension": ".py",
   "mimetype": "text/x-python",
   "name": "python",
   "nbconvert_exporter": "python",
   "pygments_lexer": "ipython3",
   "version": "3.9.6"
  },
  "orig_nbformat": 4
 },
 "nbformat": 4,
 "nbformat_minor": 2
}
